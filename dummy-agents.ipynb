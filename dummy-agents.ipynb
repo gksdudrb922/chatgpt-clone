{
 "cells": [
  {
   "cell_type": "code",
   "execution_count": null,
   "id": "b5bb29c3",
   "metadata": {},
   "outputs": [],
   "source": [
    "from agents import Agent, Runner, function_tool, ItemHelpers\n",
    "\n",
    "\n",
    "@function_tool\n",
    "def get_weather(city: str):\n",
    "    \"\"\"Get weather by city\"\"\"\n",
    "    return \"30 degrees\"\n",
    "\n",
    "\n",
    "agent = Agent(\n",
    "    name=\"Assistant Agent\",\n",
    "    instructions=\"You are a helpful assistant. Use tools when needed to answer questions\",\n",
    "    tools=[get_weather],\n",
    ")\n",
    "\n",
    "stream = Runner.run_streamed(\n",
    "    agent, \"Hello How are you? What is the weather in the capital of Spain?\"\n",
    ")\n",
    "\n",
    "message = \"\"\n",
    "args = \"\"\n",
    "\n",
    "async for event in stream.stream_events():\n",
    "    if event.type == \"raw_response_event\":\n",
    "        event_type = event.data.type\n",
    "        if event_type == \"response.output_text.delta\":\n",
    "            message += event.data.delta\n",
    "            print(message)\n",
    "        elif event_type == \"response.function_call_arguments.delta\":\n",
    "            args += event.data.delta\n",
    "            print(args)\n",
    "        elif event_type == \"response.completed\":\n",
    "            message = \"\"\n",
    "            args = \"\"\n",
    "\n"
   ]
  }
 ],
 "metadata": {
  "kernelspec": {
   "display_name": ".venv",
   "language": "python",
   "name": "python3"
  },
  "language_info": {
   "codemirror_mode": {
    "name": "ipython",
    "version": 3
   },
   "file_extension": ".py",
   "mimetype": "text/x-python",
   "name": "python",
   "nbconvert_exporter": "python",
   "pygments_lexer": "ipython3",
   "version": "3.13.5"
  }
 },
 "nbformat": 4,
 "nbformat_minor": 5
}
